{
 "cells": [
  {
   "cell_type": "markdown",
   "id": "20542d24-4dd5-43b7-9f4e-938c51a70d81",
   "metadata": {
    "deletable": false,
    "editable": false,
    "slideshow": {
     "slide_type": ""
    },
    "tags": []
   },
   "source": [
    "**SM339 &#x25aa; Applied Statistics &#x25aa; Spring 2024 &#x25aa; Uhan**"
   ]
  },
  {
   "cell_type": "markdown",
   "id": "3a72792a-aec3-4065-9d56-88ed28df2598",
   "metadata": {
    "deletable": false,
    "editable": false,
    "slideshow": {
     "slide_type": ""
    },
    "tags": []
   },
   "source": [
    "# Exam 1 &mdash; Part 2 &mdash; 2/15/2024"
   ]
  },
  {
   "cell_type": "markdown",
   "id": "206840bf-d41c-4ce1-a0de-4051888970d5",
   "metadata": {
    "deletable": false,
    "editable": false,
    "slideshow": {
     "slide_type": ""
    },
    "tags": []
   },
   "source": [
    "## Instructions\n",
    "\n",
    "This part is worth 40 points total. The exam (both parts) is worth 100 points total.\n",
    "\n",
    "You have until the end of the class period to complete this part of the exam.\n",
    "\n",
    "You may use your plebe-issue TI-36X Pro calculator.\n",
    "\n",
    "You may refer to notes that _you have handwritten_, not to exceed _one side_ of an 8.5\" × 11\" piece of paper.\n",
    "\n",
    "You may _not_ use any other materials.\n",
    "\n",
    "__No applications except for JupyterLab may be open on your laptop during the exam.__\n",
    "\n",
    "__No collaboration allowed.__ All work must be your own.\n",
    "\n",
    "__Do not discuss the contents of this exam with any midshipmen until it is returned to you.__\n",
    "\n",
    "Type your answers __directly in this Jupyter notebook__, and submit this notebook (just the `ipynb` file) using the submission form on the [course website](https://courses.uhan.me/sm339/)."
   ]
  },
  {
   "cell_type": "markdown",
   "id": "b3de8b32-011e-40a1-bbcc-d2af4085f818",
   "metadata": {
    "deletable": false,
    "editable": false,
    "slideshow": {
     "slide_type": ""
    },
    "tags": []
   },
   "source": [
    "## Problem 1"
   ]
  },
  {
   "cell_type": "markdown",
   "id": "37608478-934b-4d8d-9390-eaabddf44917",
   "metadata": {
    "deletable": false,
    "editable": false,
    "slideshow": {
     "slide_type": ""
    },
    "tags": []
   },
   "source": [
    "### a.\n",
    "\n",
    "For $X \\sim t(22)$, compute $P(-0.5 \\le X < 1.1)$."
   ]
  },
  {
   "cell_type": "code",
   "execution_count": null,
   "id": "17ddd885-271f-4c79-8a48-c9f2bb648a9c",
   "metadata": {
    "deletable": false,
    "editable": true,
    "slideshow": {
     "slide_type": ""
    },
    "tags": []
   },
   "outputs": [],
   "source": []
  },
  {
   "cell_type": "markdown",
   "id": "14e7e16e-6af0-45f6-afca-ccfcb03cd08d",
   "metadata": {
    "deletable": false,
    "editable": false,
    "slideshow": {
     "slide_type": ""
    },
    "tags": []
   },
   "source": [
    "### b.\n",
    "\n",
    "For $Y \\sim N(5, 13)$, compute the 0.42-quantile."
   ]
  },
  {
   "cell_type": "code",
   "execution_count": null,
   "id": "ab3bd34c-1df2-451e-bdcf-732a61c2b969",
   "metadata": {
    "deletable": false,
    "editable": true,
    "slideshow": {
     "slide_type": ""
    },
    "tags": []
   },
   "outputs": [],
   "source": []
  },
  {
   "cell_type": "markdown",
   "id": "101149dd-3046-4139-aa6d-be14480294be",
   "metadata": {
    "deletable": false,
    "editable": false,
    "slideshow": {
     "slide_type": ""
    },
    "tags": []
   },
   "source": [
    "## Problem 2\n",
    "\n",
    "You have been recently been hired by Threads & Treasures, a local Simplexville clothing boutique.\n",
    "The data frame `Clothing` from the `Stat2Data` library contains several variables for 60 customers, including $\\mathit{Amount}$, the amount spent during their latest visit (in dollars), and $\\mathit{Dollar12}$, the amount spent over the last 12 months (in dollars).\n",
    "\n",
    "Load the `Stat2Data` library and the `Clothing` data frame, and examine the first few rows by running the cell below."
   ]
  },
  {
   "cell_type": "code",
   "execution_count": null,
   "id": "55765e0a-da65-4bc9-80dd-9a793de2a654",
   "metadata": {
    "deletable": false,
    "editable": false,
    "slideshow": {
     "slide_type": ""
    },
    "tags": []
   },
   "outputs": [],
   "source": [
    "library(Stat2Data)\n",
    "data(Clothing)\n",
    "head(Clothing)"
   ]
  },
  {
   "cell_type": "markdown",
   "id": "626b513e-a4e2-4f12-ad41-205ccfe5d337",
   "metadata": {
    "deletable": false,
    "editable": false,
    "slideshow": {
     "slide_type": ""
    },
    "tags": []
   },
   "source": [
    "### a.\n",
    "\n",
    "Compute the median amount spent by customers during their latest visit (in dollars)."
   ]
  },
  {
   "cell_type": "code",
   "execution_count": null,
   "id": "7f753eb3-c3c7-419b-84ec-7650b2e94976",
   "metadata": {
    "deletable": false,
    "editable": true,
    "slideshow": {
     "slide_type": ""
    },
    "tags": []
   },
   "outputs": [],
   "source": []
  },
  {
   "cell_type": "markdown",
   "id": "623606cb-5022-4740-a86f-f0bc27a9b568",
   "metadata": {
    "deletable": false,
    "editable": false,
    "slideshow": {
     "slide_type": ""
    },
    "tags": []
   },
   "source": [
    "### b.\n",
    "\n",
    "Create a histogram of the amount spent by customers over the last 12 months (in dollars).\n",
    "Your histogram should have 10 bins."
   ]
  },
  {
   "cell_type": "code",
   "execution_count": null,
   "id": "ef3fdfd0-1805-4da8-ac62-c452b2fe7123",
   "metadata": {
    "deletable": false,
    "editable": true,
    "slideshow": {
     "slide_type": ""
    },
    "tags": []
   },
   "outputs": [],
   "source": []
  },
  {
   "cell_type": "markdown",
   "id": "257ce4c1-d71c-45fa-bcf6-57842e74dfa0",
   "metadata": {
    "deletable": false,
    "editable": false,
    "slideshow": {
     "slide_type": ""
    },
    "tags": []
   },
   "source": [
    "## Problem 3\n",
    "\n",
    "A person's systolic blood pressure can be a signal of serious issues in their cardiovascular system.\n",
    "Are there differences in average systolic blood pressure based on a person's size?\n",
    "\n",
    "The data frame `Blood1` from the `Stat2Data` library has the systolic blood pressure ($\\mathit{SystolicBP}$) and size ($\\mathit{Overwt}$, where 0 = normal, 1 = overweight, 2 = obese) of 500 randomly chosen adults.\n",
    "\n",
    "Load the `Blood1` data frame and examine the first few rows by running the cell below."
   ]
  },
  {
   "cell_type": "code",
   "execution_count": null,
   "id": "04093091-c18b-4ec5-a940-6e44176318ac",
   "metadata": {
    "deletable": false,
    "editable": false,
    "slideshow": {
     "slide_type": ""
    },
    "tags": []
   },
   "outputs": [],
   "source": [
    "data(Blood1)\n",
    "head(Blood1)"
   ]
  },
  {
   "cell_type": "markdown",
   "id": "f1d88235-3f86-4e07-9e4b-5e3aad1d4429",
   "metadata": {
    "deletable": false,
    "editable": false,
    "slideshow": {
     "slide_type": ""
    },
    "tags": []
   },
   "source": [
    "### a.\n",
    "\n",
    "Compute the one-way ANOVA table to test for differences in average systolic blood pressure between normal, overweight, and obese people.\n",
    "\n",
    "Provide __only__ the summary output for this part.\n",
    "\n",
    "_Hint._ Remember to use `as.factor(Overwt)` to ensure that R treats $\\mathit{Overwt}$ as a categorical variable."
   ]
  },
  {
   "cell_type": "code",
   "execution_count": null,
   "id": "4c6c8a3b-9c89-4480-b3d5-644fa0fd25f6",
   "metadata": {
    "deletable": false,
    "editable": true,
    "slideshow": {
     "slide_type": ""
    },
    "tags": []
   },
   "outputs": [],
   "source": []
  },
  {
   "cell_type": "markdown",
   "id": "fb99b7d3-6200-4085-b52a-e313e9328b64",
   "metadata": {
    "deletable": false,
    "editable": false,
    "slideshow": {
     "slide_type": ""
    },
    "tags": []
   },
   "source": [
    "### b.\n",
    "\n",
    "According to the one-way ANOVA table you computed in part a, what is the $p$-value of the $F$-test that tests for differences in the average systolic blood pressure between normal, overweight, and obese people?\n",
    "\n",
    "Using a significance level of 0.01, do you reject or fail to reject the null hypothesis? Briefly explain. Your explanation should be in complete sentences, with correct spelling and grammar."
   ]
  },
  {
   "cell_type": "markdown",
   "id": "1551226d-e3f4-4239-b87a-b7a2e68d2341",
   "metadata": {
    "deletable": false,
    "editable": true,
    "slideshow": {
     "slide_type": ""
    },
    "tags": []
   },
   "source": [
    "*Write your answer here. Double-click to edit.*"
   ]
  },
  {
   "cell_type": "markdown",
   "id": "b911be96-dd85-410e-88f2-0b9606c9d399",
   "metadata": {
    "deletable": false,
    "editable": false,
    "slideshow": {
     "slide_type": ""
    },
    "tags": []
   },
   "source": [
    "### c.\n",
    "\n",
    "Based on your answer to part b, state your conclusion about the average systolic blood pressure of normal, overweight, and obese people."
   ]
  },
  {
   "cell_type": "markdown",
   "id": "29d15e8e-948e-41e7-a441-32110041ccf9",
   "metadata": {
    "deletable": false,
    "editable": true,
    "slideshow": {
     "slide_type": ""
    },
    "tags": []
   },
   "source": [
    "*Write your answer here. Double-click to edit.*"
   ]
  },
  {
   "cell_type": "markdown",
   "id": "372cd78a-125f-41c9-9062-d4701272544b",
   "metadata": {
    "deletable": false,
    "editable": false,
    "slideshow": {
     "slide_type": ""
    },
    "tags": []
   },
   "source": [
    "### d.\n",
    "\n",
    "Using the rule of thumb covered in class, check whether __each population (group) has the same standard deviation__.\n",
    "\n",
    "Use the code cell below to generate output that will help you check this condition.\n",
    "\n",
    "In the Markdown cell below, comment on whether this condition is met, based on your output. Your explanation should be in complete sentences, with correct spelling and grammar."
   ]
  },
  {
   "cell_type": "code",
   "execution_count": null,
   "id": "80be5002-5c28-421e-a05d-f83e609390b6",
   "metadata": {
    "deletable": false,
    "editable": true,
    "slideshow": {
     "slide_type": ""
    },
    "tags": []
   },
   "outputs": [],
   "source": []
  },
  {
   "cell_type": "markdown",
   "id": "60533073-f2f8-4ac1-900d-241e9ce5ac36",
   "metadata": {
    "deletable": false,
    "editable": true,
    "slideshow": {
     "slide_type": ""
    },
    "tags": []
   },
   "source": [
    "*Write your answer here. Double-click to edit.*"
   ]
  },
  {
   "cell_type": "markdown",
   "id": "821d8d5f-6152-485e-bed6-0aeb41fb7c17",
   "metadata": {
    "deletable": false,
    "editable": false,
    "slideshow": {
     "slide_type": ""
    },
    "tags": []
   },
   "source": [
    "## Problem 4\n",
    "\n",
    "College students were asked to look at a photograph of an adult face and rate the person, on a scale of 1 (low) to 10 (high), for attractiveness. They were also asked to rate trustworthiness, faithfulness, and sexual dimorphism (i.e., how masculine or how feminine a face is). Overall, 68 students rated 170 faces.\n",
    "\n",
    "The data frame `FaithfulFaces` from the `Stat2Data` library contains the data from this experiment. Each observation corresponds to one face. The variable $\\mathit{Trust}$ contains the average trustworthiness rating, and the variable $\\mathit{Attract}$ contains the average attractiveness rating.\n",
    "\n",
    "For this problem, we want to understand the relationship between the average trustworthiness rating and average attractiveness rating of a face.\n",
    "\n",
    "Load the `FaithfulFaces` data frame and examine the first few rows by running the cell below."
   ]
  },
  {
   "cell_type": "code",
   "execution_count": null,
   "id": "66856309-7d91-4f3f-9a51-b425cc620a62",
   "metadata": {
    "deletable": false,
    "editable": false,
    "slideshow": {
     "slide_type": ""
    },
    "tags": []
   },
   "outputs": [],
   "source": [
    "data(FaithfulFaces)\n",
    "head(FaithfulFaces)"
   ]
  },
  {
   "cell_type": "markdown",
   "id": "f211623c-814d-4de8-9166-6df3678a15bf",
   "metadata": {
    "deletable": false,
    "editable": false,
    "slideshow": {
     "slide_type": ""
    },
    "tags": []
   },
   "source": [
    "### a.\n",
    "\n",
    "Fit a simple linear regression model that predicts the average trustworthiness rating of a face  using the average attractiveness rating of a face.\n",
    "\n",
    "Provide __only__ the summary output for this part."
   ]
  },
  {
   "cell_type": "code",
   "execution_count": null,
   "id": "44495d1b-9d57-4917-a63b-435763bb6c04",
   "metadata": {
    "deletable": false,
    "editable": true,
    "slideshow": {
     "slide_type": ""
    },
    "tags": []
   },
   "outputs": [],
   "source": []
  },
  {
   "cell_type": "markdown",
   "id": "f0b9a2dc-01ad-46e4-9635-599132bd1bb6",
   "metadata": {
    "deletable": false,
    "editable": false,
    "slideshow": {
     "slide_type": ""
    },
    "tags": []
   },
   "source": [
    "### b.\n",
    "\n",
    "Is the __linearity__ condition for simple linear regression met?\n",
    "\n",
    "Using the code cell below, create a __single__ diagnostic plot that will help you answer this question.\n",
    "\n",
    "In the Markdown cell below, comment on whether the linearity condition is met, based on your diagnostic plot.\n",
    "Your explanation should be in complete sentences, with correct spelling and grammar."
   ]
  },
  {
   "cell_type": "code",
   "execution_count": null,
   "id": "95287845-86a1-4096-9096-0862e9b99f32",
   "metadata": {
    "deletable": false,
    "editable": true,
    "slideshow": {
     "slide_type": ""
    },
    "tags": []
   },
   "outputs": [],
   "source": []
  },
  {
   "cell_type": "markdown",
   "id": "26203384-e9d0-4554-a203-022793dacb28",
   "metadata": {
    "deletable": false,
    "editable": true,
    "slideshow": {
     "slide_type": ""
    },
    "tags": []
   },
   "source": [
    "*Write your answer here. Double-click to edit.*"
   ]
  },
  {
   "cell_type": "markdown",
   "id": "71ea019d-e0c7-4a3b-a74b-72054b21b05d",
   "metadata": {
    "deletable": false,
    "editable": false,
    "slideshow": {
     "slide_type": ""
    },
    "tags": []
   },
   "source": [
    "### c.\n",
    "\n",
    "Is the __equal variance__ condition for simple linear regression met?\n",
    "\n",
    "Using the code cell below, create a __single__ diagnostic plot that will help you answer this question.\n",
    "\n",
    "In the Markdown cell below, comment on whether the equal variance condition is met, based on your diagnostic plot. \n",
    "Your explanation should be in complete sentences, with correct spelling and grammar."
   ]
  },
  {
   "cell_type": "code",
   "execution_count": null,
   "id": "1ab25313-d339-490d-928e-22b1b2eedc95",
   "metadata": {
    "deletable": false,
    "editable": true,
    "slideshow": {
     "slide_type": ""
    },
    "tags": []
   },
   "outputs": [],
   "source": []
  },
  {
   "cell_type": "markdown",
   "id": "6bf38f8d-8500-4a91-b662-1c5b2dc85b7c",
   "metadata": {
    "deletable": false,
    "editable": true,
    "slideshow": {
     "slide_type": ""
    },
    "tags": []
   },
   "source": [
    "*Write your answer here. Double-click to edit.*"
   ]
  },
  {
   "cell_type": "markdown",
   "id": "da7585a8-ad67-434f-b02b-0bc2acf5bfeb",
   "metadata": {
    "deletable": false,
    "editable": false,
    "slideshow": {
     "slide_type": ""
    },
    "tags": []
   },
   "source": [
    "### d.\n",
    "\n",
    "Is the __normality__ condition for simple linear regression met?\n",
    "\n",
    "Using the code cell below, create a __single__ diagnostic plot that will help you answer this question.\n",
    "\n",
    "In the Markdown cell below, comment on whether the normality condition is met, based on your diagnostic plot. \n",
    "Your explanation should be in complete sentences, with correct spelling and grammar."
   ]
  },
  {
   "cell_type": "code",
   "execution_count": null,
   "id": "708d1eb9-881b-420c-9f4c-34c9de24e94f",
   "metadata": {
    "deletable": false,
    "editable": true,
    "slideshow": {
     "slide_type": ""
    },
    "tags": []
   },
   "outputs": [],
   "source": []
  },
  {
   "cell_type": "markdown",
   "id": "c35fb85b-f767-48d0-9a59-63658df4d509",
   "metadata": {
    "deletable": false,
    "editable": true,
    "slideshow": {
     "slide_type": ""
    },
    "tags": []
   },
   "source": [
    "*Write your answer here. Double-click to edit.*"
   ]
  },
  {
   "cell_type": "markdown",
   "id": "4160f75f-aa04-454f-9d59-fd8c9811004b",
   "metadata": {
    "deletable": false,
    "editable": false,
    "slideshow": {
     "slide_type": ""
    },
    "tags": []
   },
   "source": [
    "## Grading rubric\n",
    "    \n",
    "| Problem | Weight |\n",
    "| :-: | -: |\n",
    "| 1a | 0.2 |\n",
    "| 1b | 0.2 |\n",
    "| 2a | 0.2 |\n",
    "| 2b | 0.2 |\n",
    "| 3a | 0.4 |\n",
    "| 3b | 0.4 |\n",
    "| 3c | 0.4 |\n",
    "| 3d | 0.4 |\n",
    "| 4a | 0.4 |\n",
    "| 4b | 0.4 |\n",
    "| 4c | 0.4 |\n",
    "| 4d | 0.4 |\n",
    "| __Max Score__ | __40__ | "
   ]
  }
 ],
 "metadata": {
  "kernelspec": {
   "display_name": "R",
   "language": "R",
   "name": "ir"
  },
  "language_info": {
   "codemirror_mode": "r",
   "file_extension": ".r",
   "mimetype": "text/x-r-source",
   "name": "R",
   "pygments_lexer": "r",
   "version": "4.2.2"
  }
 },
 "nbformat": 4,
 "nbformat_minor": 5
}
